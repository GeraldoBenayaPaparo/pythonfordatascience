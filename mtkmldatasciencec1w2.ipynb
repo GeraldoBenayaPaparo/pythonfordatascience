{
  "nbformat": 4,
  "nbformat_minor": 0,
  "metadata": {
    "colab": {
      "provenance": []
    },
    "kernelspec": {
      "name": "python3",
      "display_name": "Python 3"
    },
    "language_info": {
      "name": "python"
    }
  },
  "cells": [
    {
      "cell_type": "code",
      "execution_count": 8,
      "metadata": {
        "id": "1KcV52q0h1mI"
      },
      "outputs": [],
      "source": [
        "import numpy as np\n",
        "import unittest as w2_unittest\n",
        "\n",
        "\n",
        "### START CODE HERE ###\n",
        "A = np.array([\n",
        "        [2,-1,1,1],\n",
        "        [1,2,-1,-1],\n",
        "        [-1,2,2,2],\n",
        "        [1,-1,2,1]\n",
        "    ], dtype=np.dtype(float))\n",
        "b = np.array([6,3,14,8], dtype=np.dtype(float))\n",
        "\n",
        "# Test your solution\n",
        "#w2_unittest.test_matrix(A, b)\n",
        "\n",
        "### END CODE HERE ###\n"
      ]
    },
    {
      "cell_type": "code",
      "source": [
        "### START CODE HERE ###\n",
        "# determinant of matrix A\n",
        "d = np.linalg.det(A)\n",
        "\n",
        "# solution of the system of linear equations\n",
        "# with the corresponding coefficients matrix A and free coefficients b\n",
        "x = np.linalg.solve(A,b)\n",
        "### END CODE HERE ###\n",
        "\n",
        "print(f\"Determinant of matrix A: {d:.2f}\")\n",
        "\n",
        "print(f\"Solution vector: {x}\")\n",
        "\n",
        "# Test your solution\n",
        "# w2_unittest.test_det_and_solution_scipy(d,x)"
      ],
      "metadata": {
        "colab": {
          "base_uri": "https://localhost:8080/"
        },
        "id": "fUCjMnH5iQ2z",
        "outputId": "74f58bff-3d6d-4b1b-b3bb-de8a8567ddb1"
      },
      "execution_count": 11,
      "outputs": [
        {
          "output_type": "stream",
          "name": "stdout",
          "text": [
            "Determinant of matrix A: -17.00\n",
            "Solution vector: [2. 3. 4. 1.]\n"
          ]
        }
      ]
    },
    {
      "cell_type": "code",
      "source": [
        "### START CODE HERE ###\n",
        "def MultiplyRow(M, row_num, row_num_multiple):\n",
        "    # .copy() function is required here to keep the original matrix without any changes\n",
        "    M_new = M.copy()\n",
        "    # exchange row_num of the matrix M_new with its multiple by row_num_multiple\n",
        "    # Note: for simplicity, you can drop check if  row_num_multiple has non-zero value, which makes the operation valid\n",
        "    M_new[row_num] = M_new[row_num] * row_num_multiple\n",
        "    return M_new\n",
        "\n",
        "def AddRows(M, row_num_1, row_num_2, row_num_1_multiple):\n",
        "    M_new = M.copy()\n",
        "    # multiply row_num_1 by row_num_1_multiple and add it to the row_num_2,\n",
        "    # exchanging row_num_2 of the matrix M_new with the result\n",
        "    M_new[row_num_2] += M_new[row_num_1] * row_num_1_multiple\n",
        "    return M_new\n",
        "\n",
        "def SwapRows(M, row_num_1, row_num_2):\n",
        "    M_new = M.copy()\n",
        "    # exchange row_num_1 and row_num_2 of the matrix M_new\n",
        "    M_new[row_num_1] = M_new[row_num_1] + M_new[row_num_2]\n",
        "    M_new[row_num_2] = M_new[row_num_1] - M_new[row_num_2]\n",
        "    M_new[row_num_1] = M_new[row_num_1] - M_new[row_num_2]\n",
        "    return M_new\n",
        "### END CODE HERE ###"
      ],
      "metadata": {
        "id": "kXRiQtlymutO"
      },
      "execution_count": 12,
      "outputs": []
    },
    {
      "cell_type": "code",
      "source": [
        "A_test = np.array([\n",
        "        [1, -2, 3, -4],\n",
        "        [-5, 6, -7, 8],\n",
        "        [-4, 3, -2, 1],\n",
        "        [8, -7, 6, -5]\n",
        "    ], dtype=np.dtype(float))\n",
        "print(\"Original matrix:\")\n",
        "print(A_test)\n",
        "\n",
        "print(\"\\nOriginal matrix after its third row is multiplied by -2:\")\n",
        "print(MultiplyRow(A_test,2,-2))\n",
        "\n",
        "print(\"\\nOriginal matrix after exchange of the third row with the sum of itself and first row multiplied by 4:\")\n",
        "print(AddRows(A_test,0,2,4))\n",
        "\n",
        "print(\"\\nOriginal matrix after exchange of its first and third rows:\")\n",
        "print(SwapRows(A_test,0,2))\n",
        "\n",
        "# Test your solution\n",
        "# w2_unittest.test_elementary_operations(MultiplyRow, AddRows, SwapRows)"
      ],
      "metadata": {
        "colab": {
          "base_uri": "https://localhost:8080/"
        },
        "id": "6Xb52OW-ndYM",
        "outputId": "58386503-0148-4986-8f63-03b7a8ca2b12"
      },
      "execution_count": 15,
      "outputs": [
        {
          "output_type": "stream",
          "name": "stdout",
          "text": [
            "Original matrix:\n",
            "[[ 1. -2.  3. -4.]\n",
            " [-5.  6. -7.  8.]\n",
            " [-4.  3. -2.  1.]\n",
            " [ 8. -7.  6. -5.]]\n",
            "\n",
            "Original matrix after its third row is multiplied by -2:\n",
            "[[ 1. -2.  3. -4.]\n",
            " [-5.  6. -7.  8.]\n",
            " [ 8. -6.  4. -2.]\n",
            " [ 8. -7.  6. -5.]]\n",
            "\n",
            "Original matrix after exchange of the third row with the sum of itself and first row multiplied by 4:\n",
            "[[  1.  -2.   3.  -4.]\n",
            " [ -5.   6.  -7.   8.]\n",
            " [  0.  -5.  10. -15.]\n",
            " [  8.  -7.   6.  -5.]]\n",
            "\n",
            "Original matrix after exchange of its first and third rows:\n",
            "[[-4.  3. -2.  1.]\n",
            " [-5.  6. -7.  8.]\n",
            " [ 1. -2.  3. -4.]\n",
            " [ 8. -7.  6. -5.]]\n"
          ]
        }
      ]
    },
    {
      "cell_type": "code",
      "source": [
        "def augmented_to_ref(A, b):\n",
        "    ### START CODE HERE ###\n",
        "    # stack horizontally matrix A and vector b, which needs to be reshaped as a vector (4, 1)\n",
        "    A_system = np.hstack((A, b.reshape(4, 1)))\n",
        "\n",
        "    # swap row 0 and row 1 of matrix A_system (remember that indexing in NumPy array starts from 0)\n",
        "    A_ref = SwapRows(A_system, 0, 1)\n",
        "\n",
        "    # multiply row 0 of the new matrix A_ref by -2 and add it to the row 1\n",
        "    A_ref = AddRows(A_ref, 0, 1, -2)\n",
        "\n",
        "    # add row 0 of the new matrix A_ref to the row 2, replacing row 2\n",
        "    A_ref[2] += A_ref[0]\n",
        "\n",
        "    # multiply row 0 of the new matrix A_ref by -1 and add it to the row 3\n",
        "    A_ref = AddRows(A_ref, 0, 3, -1)\n",
        "\n",
        "    # add row 2 of the new matrix A_ref to the row 3, replacing row 3\n",
        "    A_ref[3] += A_ref[2]\n",
        "\n",
        "    # swap row 1 and 3 of the new matrix A_ref\n",
        "    A_ref = SwapRows(A_ref, 1, 3)\n",
        "\n",
        "    # add row 2 of the new matrix A_ref to the row 3, replacing row 3\n",
        "    A_ref[3] += A_ref[2]\n",
        "\n",
        "    # multiply row 1 of the new matrix A_ref by -4 and add it to the row 2\n",
        "    A_ref = AddRows(A_ref, 1, 2, -4)\n",
        "\n",
        "    # add row 1 of the new matrix A_ref to the row 3, replacing row 3\n",
        "    A_ref[3] += A_ref[1]\n",
        "\n",
        "    # multiply row 3 of the new matrix A_ref by 2 and add it to the row 2\n",
        "    A_ref = AddRows(A_ref, 3, 2, 2)\n",
        "\n",
        "    # multiply row 2 of the new matrix A_ref by -8 and add it to the row 3\n",
        "    A_ref = AddRows(A_ref, 2, 3, -8)\n",
        "\n",
        "    # multiply row 3 of the new matrix A_ref by -1/17\n",
        "    A_ref[3] = A_ref[3] * -1/17\n",
        "    ### END CODE HERE ###\n",
        "\n",
        "    return A_ref\n",
        "\n",
        "A_ref = augmented_to_ref(A, b)\n",
        "\n",
        "print(A_ref)"
      ],
      "metadata": {
        "colab": {
          "base_uri": "https://localhost:8080/"
        },
        "id": "Z5tQ28vznnte",
        "outputId": "366b0157-e3da-43f2-a51f-2ea707c21b65"
      },
      "execution_count": 16,
      "outputs": [
        {
          "output_type": "stream",
          "name": "stdout",
          "text": [
            "[[ 1.  2. -1. -1.  3.]\n",
            " [ 0.  1.  4.  3. 22.]\n",
            " [ 0.  0.  1.  3.  7.]\n",
            " [-0. -0. -0.  1.  1.]]\n"
          ]
        }
      ]
    },
    {
      "cell_type": "code",
      "source": [
        "### START CODE HERE ###\n",
        "\n",
        "# find the value of x_4 from the last line of the reduced matrix A_ref\n",
        "x_4 = A_ref[3, 3]\n",
        "\n",
        "# find the value of x_3 from the previous row of the matrix. Use value of x_4.\n",
        "x_3 = A_ref[2, 4] -  A_ref[2, 3]* x_4\n",
        "\n",
        "# find the value of x_2 from the second row of the matrix. Use values of x_3 and x_4\n",
        "x_2 = A_ref[1, 4] - A_ref[1, 2]*x_3 - A_ref[2, 3]*x_4\n",
        "\n",
        "# find the value of x_1 from the first row of the matrix. Use values of x_2, x_3 and x_4\n",
        "x_1 = A_ref[0, 4] - A_ref[0, 1]*x_2 + x_3 + x_4\n",
        "### END CODE HERE ###\n",
        "\n",
        "print(x_1, x_2, x_3, x_4)"
      ],
      "metadata": {
        "colab": {
          "base_uri": "https://localhost:8080/"
        },
        "id": "EnDjO1VkoUh7",
        "outputId": "eee57de4-f596-4914-e2a4-20ee262f03d0"
      },
      "execution_count": 17,
      "outputs": [
        {
          "output_type": "stream",
          "name": "stdout",
          "text": [
            "2.0 3.0 4.0 1.0\n"
          ]
        }
      ]
    },
    {
      "cell_type": "code",
      "source": [
        "def ref_to_diagonal(A_ref):\n",
        "    ### START CODE HERE ###\n",
        "    # multiply row 3 of the matrix A_ref by -3 and add it to the row 2\n",
        "    A_diag = AddRows(A_ref, 3, 2, -3)\n",
        "\n",
        "    # multiply row 3 of the new matrix A_diag by -3 and add it to the row 1\n",
        "    A_diag = AddRows(A_diag, 3, 1, -3)\n",
        "\n",
        "    # add row 3 of the new matrix A_diag to the row 0, replacing row 0\n",
        "    A_diag[0] += A_diag[3]\n",
        "\n",
        "    # multiply row 2 of the new matrix A_diag by -4 and add it to the row 1\n",
        "    A_diag = AddRows(A_diag, 2, 1, -4)\n",
        "\n",
        "    # add row 2 of the new matrix A_diag to the row 0, replacing row 0\n",
        "    A_diag[0] += A_diag[2]\n",
        "\n",
        "    # multiply row 1 of the new matrix A_diag by -2 and add it to the row 0\n",
        "    A_diag = AddRows(A_diag, 1, 0, -2)\n",
        "    ### END CODE HERE ###\n",
        "\n",
        "    return A_diag\n",
        "\n",
        "A_diag = ref_to_diagonal(A_ref)\n",
        "\n",
        "print(A_diag)"
      ],
      "metadata": {
        "colab": {
          "base_uri": "https://localhost:8080/"
        },
        "id": "ubE-vC_copZd",
        "outputId": "f2d7da33-8750-4043-d8f6-87ac79606862"
      },
      "execution_count": 18,
      "outputs": [
        {
          "output_type": "stream",
          "name": "stdout",
          "text": [
            "[[ 1.  0.  0.  0.  2.]\n",
            " [ 0.  1.  0.  0.  3.]\n",
            " [ 0.  0.  1.  0.  4.]\n",
            " [-0. -0. -0.  1.  1.]]\n"
          ]
        }
      ]
    },
    {
      "cell_type": "code",
      "source": [],
      "metadata": {
        "id": "6nmtjYaEo5vi"
      },
      "execution_count": null,
      "outputs": []
    }
  ]
}